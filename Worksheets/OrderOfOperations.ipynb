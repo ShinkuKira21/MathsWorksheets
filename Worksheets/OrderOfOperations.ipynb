{
 "cells": [
  {
   "cell_type": "markdown",
   "metadata": {},
   "source": [
    "<h1>Worksheet Order of Operations</h1>\n",
    "\n",
    "<b>\n",
    "<br>(BODMAS)<br> \n",
    "Brackets, Powers, Divide, Multiply, Add, Subtract\n",
    "<br><br>\n",
    "    <h2>Example:</h2>\n",
    "      \n",
    "    5 + 8 * 5 will be reorganised like 8 * 5 + 5 (according to Order of Operations)\n",
    "    \n",
    "<div> Try yourself:</div>\n",
    "    \n",
    "Excerises: \n",
    "    \n",
    "* Excercise 1: 4 - 8 + 4\n",
    "* Excercise 2: 8 + 5 * 7\n",
    "* Excercise 3: 7 * 3 + 7 * 2\n",
    "* Excercise 4: (8 + 4) * 2\n",
    "* Excercise 5: 4 / (6 * 2)\n",
    "    \n",
    "<br>\n",
    "</b>\n"
   ]
  },
  {
   "cell_type": "code",
   "execution_count": 2,
   "metadata": {},
   "outputs": [
    {
     "name": "stdout",
     "output_type": "stream",
     "text": [
      "2\n"
     ]
    }
   ],
   "source": [
    "print(2)"
   ]
  },
  {
   "cell_type": "code",
   "execution_count": null,
   "metadata": {},
   "outputs": [],
   "source": []
  }
 ],
 "metadata": {
  "kernelspec": {
   "display_name": "Python 3",
   "language": "python",
   "name": "python3"
  },
  "language_info": {
   "codemirror_mode": {
    "name": "ipython",
    "version": 3
   },
   "file_extension": ".py",
   "mimetype": "text/x-python",
   "name": "python",
   "nbconvert_exporter": "python",
   "pygments_lexer": "ipython3",
   "version": "3.7.9"
  }
 },
 "nbformat": 4,
 "nbformat_minor": 4
}
