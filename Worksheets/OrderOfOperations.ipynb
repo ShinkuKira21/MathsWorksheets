{
 "cells": [
  {
   "cell_type": "code",
   "execution_count": 10,
   "metadata": {},
   "outputs": [
    {
     "data": {
      "text/html": [
       "<form action=\"javascript:IPython.notebook.execute_cells([1,2,3,4]);\">\n",
       "<input type=\"submit\" id=\"toggleButton\" value=\"Answer Questions\"></form>"
      ]
     },
     "metadata": {},
     "output_type": "display_data"
    },
    {
     "data": {
      "text/html": [
       "<script>\n",
       "code_show=true; \n",
       "function code_toggle() {\n",
       " if (code_show){\n",
       " $('div.input').hide();\n",
       " } else {\n",
       " $('div.input').show();\n",
       " }\n",
       "}\n",
       "$(document).ready(code_toggle);\n",
       "</script>"
      ],
      "text/plain": [
       "<IPython.core.display.HTML object>"
      ]
     },
     "execution_count": 10,
     "metadata": {},
     "output_type": "execute_result"
    }
   ],
   "source": [
    "import warnings\n",
    "warnings.filterwarnings(\"ignore\", message=\"numpy.dtype size changed\")\n",
    "\n",
    "from IPython.core.display import display, HTML\n",
    "from IPython.display import Javascript, display\n",
    "\n",
    "answer = [8, 43, 14, 24, 3]\n",
    "\n",
    "#Adding Buttons\n",
    "import IPython.core.display as di # Example: di.display_html('<h3>%s:</h3>' % str, raw=True)\n",
    "\n",
    "#Execute all bellow button                                                  #Function/Input/Output\n",
    "di.display_html('''<form action=\"javascript:IPython.notebook.execute_cells([1,2,3,4]);\">\n",
    "<input type=\"submit\" id=\"toggleButton\" value=\"Answer Questions\"></form>''', raw=True)\n",
    "\n",
    "HTML('''<script>\n",
    "code_show=true; \n",
    "function code_toggle() {\n",
    " if (code_show){\n",
    " $('div.input').hide();\n",
    " } else {\n",
    " $('div.input').show();\n",
    " }\n",
    "}\n",
    "$(document).ready(code_toggle);\n",
    "</script>''')"
   ]
  },
  {
   "cell_type": "markdown",
   "metadata": {},
   "source": [
    "<h1>Worksheet Order of Operations</h1>\n",
    "\n",
    "<body>\n",
    "<br>(BODMAS)<br> \n",
    "Brackets, Powers, Divide, Multiply, Add, Subtract\n",
    "<br><br>\n",
    "    <h2>Example:</h2>\n",
    "      \n",
    "    5 + 8 * 5 will be reorganised like 8 * 5 + 5 (according to Order of Operations)\n",
    "    \n",
    "    <div><b>Try yourself:</b></div>\n",
    "    \n",
    "Excerises: \n",
    "    \n",
    "* Excercise 1: 4 - 8 + 4\n",
    "* Excercise 2: 8 + 5 * 7\n",
    "* Excercise 3: 7 * 3 + 7 * 2 (Hint: (7*3) + (7*2)\n",
    "* Excercise 4: (8 + 4) * 2\n",
    "* Excercise 5: 4 / (6 * 2)\n",
    "      \n",
    "To run the excercises below, press the Answer Questions button in the cell below.\n",
    "</body>\n"
   ]
  },
  {
   "cell_type": "code",
   "execution_count": null,
   "metadata": {},
   "outputs": [
    {
     "name": "stdout",
     "output_type": "stream",
     "text": [
      "Enter Answer for Excercise 0: 5\n",
      "Wrong\n",
      "\n"
     ]
    }
   ],
   "source": [
    "count = 0\n",
    "\n",
    "for i in range(0, 5) :\n",
    "    ans = int(input(\"Enter Answer for Excercise \" + str(i) + \": \"))\n",
    "    if(ans == answer[0]) :\n",
    "        print(\"Correct!\\n\")\n",
    "        count += 1\n",
    "    else :\n",
    "        print(\"Wrong\\n\")\n",
    "        \n",
    "print(\"You have got \" + str(count) + \"/5\")"
   ]
  },
  {
   "cell_type": "code",
   "execution_count": null,
   "metadata": {},
   "outputs": [],
   "source": [
    "%%html\n",
    "<script>\n",
    "    javascript:IPython.notebook.execute_cells([0]);\n",
    "    // AUTORUN ALL CELLS ON NOTEBOOK-LOAD!\n",
    "    require(\n",
    "        ['base/js/namespace', 'jquery'],\n",
    "        function(jupyter, $) {\n",
    "            $(jupyter.events).on(\"kernel_ready.Kernel\", function () {\n",
    "                console.log(\"Auto-running all cells-below...\");\n",
    "                jupyter.actions.call('jupyter-notebook:save-notebook');\n",
    "            });\n",
    "        }\n",
    "    );\n",
    "</script>"
   ]
  },
  {
   "cell_type": "code",
   "execution_count": null,
   "metadata": {},
   "outputs": [],
   "source": []
  }
 ],
 "metadata": {
  "kernelspec": {
   "display_name": "Python 3",
   "language": "python",
   "name": "python3"
  },
  "language_info": {
   "codemirror_mode": {
    "name": "ipython",
    "version": 3
   },
   "file_extension": ".py",
   "mimetype": "text/x-python",
   "name": "python",
   "nbconvert_exporter": "python",
   "pygments_lexer": "ipython3",
   "version": "3.7.9"
  }
 },
 "nbformat": 4,
 "nbformat_minor": 4
}
